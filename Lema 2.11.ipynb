{
 "cells": [
  {
   "cell_type": "code",
   "execution_count": 2,
   "id": "a23ae965",
   "metadata": {},
   "outputs": [],
   "source": [
    "load('Productos c-d.py')"
   ]
  },
  {
   "cell_type": "markdown",
   "id": "44898074",
   "metadata": {},
   "source": [
    "Usaremos las siguientes funciones \n",
    "\n",
    "`o_conm`, `o_asoc`: conmutador y asociador en $\\mathbb O$\n",
    "\n",
    "`s_conm`, `s_asoc`: conmutador y asociador en $\\mathbb S$\n",
    "\n",
    "`octs_to_sed`: devuelve un elemento de $\\mathbb S$ a partir de dos elementos de $\\mathbb O$\n",
    "\n",
    "`ogen`: devuelve un elemento de $\\mathbb O$ a partir de una string"
   ]
  },
  {
   "cell_type": "code",
   "execution_count": 46,
   "id": "050b6e6d",
   "metadata": {},
   "outputs": [],
   "source": [
    "x0 = ogen('a')\n",
    "x1 = ogen('b')\n",
    "x2 = ogen('c')\n",
    "y0 = ogen('d')\n",
    "y1 = ogen('e')\n",
    "y2 = ogen('f')"
   ]
  },
  {
   "cell_type": "markdown",
   "id": "da69600f",
   "metadata": {},
   "source": [
    "Verificamos la relación del conmutador en $\\mathbb S$"
   ]
  },
  {
   "cell_type": "code",
   "execution_count": 60,
   "id": "569e7ad9",
   "metadata": {},
   "outputs": [
    {
     "data": {
      "text/plain": [
       "(0, -2*d1*e0 + 2*d0*e1, -2*d2*e0 + 2*d0*e2, -2*d3*e0 + 2*d0*e3, -2*d4*e0 + 2*d0*e4, -2*d5*e0 + 2*d0*e5, -2*d6*e0 + 2*d0*e6, -2*d7*e0 + 2*d0*e7, 0, 0, 0, 0, 0, 0, 0, 0)"
      ]
     },
     "execution_count": 60,
     "metadata": {},
     "output_type": "execute_result"
    }
   ],
   "source": [
    "v1 = o_conm(x0,x1) - o_conm(y0,y1) #no funca este\n",
    "v2 = 2*(oprod(y1,1/2*(x0-oconj(x0))) - oprod(y0,1/2*(x1-oconj(x1)))) # está bien, me da 0\n",
    "\n",
    "\n",
    "s_conm(octs_to_sed(x0,y0),octs_to_sed(x1,y1)) - octs_to_sed(v1,v2)"
   ]
  },
  {
   "cell_type": "code",
   "execution_count": 61,
   "id": "4f0632cf",
   "metadata": {},
   "outputs": [],
   "source": [
    "p1 = ogen('a')\n",
    "p2 = ogen('b')\n",
    "p3 = ogen('c')\n",
    "q1 = ogen('d')\n",
    "q2 = ogen('e')\n",
    "q3 = ogen('f')"
   ]
  },
  {
   "cell_type": "code",
   "execution_count": 62,
   "id": "8797faf2",
   "metadata": {},
   "outputs": [
    {
     "data": {
      "text/plain": [
       "False"
      ]
     },
     "execution_count": 62,
     "metadata": {},
     "output_type": "execute_result"
    }
   ],
   "source": [
    "# xi = o_asoc(x0,x1,x2) - o_asoc(x2,y1,y0) + o_asoc(x1,y2,y0) - o_asoc(y2,y1,x0) +  o_asoc(y2,y0,x1) + o_conm(x0,oprod(oconj(y2),y1)) - o_conm(x1,oprod(oconj(y2),y0)) + o_conm(x2,oprod(oconj(y1),y0))\n",
    "# zeta = o_asoc(y0,y1,y2) + o_asoc(y0,x1,x2) - o_asoc(y2,x1,x0) + o_asoc(y1,x2,x0) - o_asoc(y1,x0,x2) + oprod(y0,o_conm(x1,x2)) - oprod(y1,o_conm(x0,x2)) + oprod(y2,o_conm(x0,x1)) - oprod(y2,o_conm(oconj(y1),y0)) - o_conm(y2,oprod(y0,oconj(y1)))\n",
    "# s_asoc(octs_to_sed(x0,y0),octs_to_sed(x1,y1),octs_to_sed(x2,y2)) == octs_to_sed(xi,zeta)"
   ]
  },
  {
   "cell_type": "code",
   "execution_count": 63,
   "id": "f2420778",
   "metadata": {},
   "outputs": [
    {
     "data": {
      "text/plain": [
       "False"
      ]
     },
     "execution_count": 63,
     "metadata": {},
     "output_type": "execute_result"
    }
   ],
   "source": [
    "xi = o_asoc(p1,p2,p3) - o_asoc(p3,q2,q1) + o_asoc(p2,q3,q1) - o_asoc(q3,q2,p1) +  o_asoc(q3,q1,p2) + o_conm(p1,oprod(oconj(q3),q2)) - o_conm(p2,oprod(oconj(q3),q1)) + o_conm(p3,oprod(oconj(q2),q1))\n",
    "zeta = o_asoc(q1,q2,q3) + o_asoc(q1,p2,p3) - o_asoc(q3,p2,p1) + o_asoc(q2,p3,p1) - o_asoc(q2,p1,p3) + oprod(q1,o_conm(p2,p3)) - oprod(q2,o_conm(p1,p3)) + oprod(q3,o_conm(p1,p2)) - oprod(q3,o_conm(oconj(q2),q1)) - o_conm(q3,oprod(q1,oconj(q2)))\n",
    "s_asoc(octs_to_sed(p1,q1),octs_to_sed(p2,q2),octs_to_sed(p3,q3)) == octs_to_sed(xi,zeta)"
   ]
  }
 ],
 "metadata": {
  "kernelspec": {
   "display_name": "SageMath 9.5",
   "language": "sage",
   "name": "sagemath"
  },
  "language_info": {
   "codemirror_mode": {
    "name": "ipython",
    "version": 3
   },
   "file_extension": ".py",
   "mimetype": "text/x-python",
   "name": "python",
   "nbconvert_exporter": "python",
   "pygments_lexer": "ipython3",
   "version": "3.10.4"
  }
 },
 "nbformat": 4,
 "nbformat_minor": 5
}
